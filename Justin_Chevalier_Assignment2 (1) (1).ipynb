{
 "cells": [
  {
   "cell_type": "code",
   "execution_count": 1,
   "metadata": {},
   "outputs": [],
   "source": [
    "import numpy as np\n",
    "\n"
   ]
  },
  {
   "cell_type": "code",
   "execution_count": 2,
   "metadata": {},
   "outputs": [
    {
     "name": "stderr",
     "output_type": "stream",
     "text": [
      "Using TensorFlow backend.\n"
     ]
    }
   ],
   "source": [
    "from keras.datasets import mnist"
   ]
  },
  {
   "cell_type": "code",
   "execution_count": 3,
   "metadata": {},
   "outputs": [],
   "source": [
    "from keras.models import Sequential"
   ]
  },
  {
   "cell_type": "markdown",
   "metadata": {},
   "source": [
    "<h1>This imports the dropoff method from keras layers</h1>"
   ]
  },
  {
   "cell_type": "code",
   "execution_count": 4,
   "metadata": {},
   "outputs": [],
   "source": [
    "from keras.layers.core import Dropout"
   ]
  },
  {
   "cell_type": "code",
   "execution_count": 5,
   "metadata": {},
   "outputs": [],
   "source": [
    "from keras.layers.core import Dense, Activation\n",
    "from keras.optimizers import SGD"
   ]
  },
  {
   "cell_type": "code",
   "execution_count": 6,
   "metadata": {},
   "outputs": [],
   "source": [
    "from keras.utils import np_utils"
   ]
  },
  {
   "cell_type": "code",
   "execution_count": 7,
   "metadata": {},
   "outputs": [],
   "source": [
    "np.random.seed(1671)"
   ]
  },
  {
   "cell_type": "markdown",
   "metadata": {},
   "source": [
    "<h1>This cell increases the NB_EPOCH variable to 5\n",
    "    It also has an accuracy rating of 0.9043\n",
    "    Its test score is 0.3523</h1>"
   ]
  },
  {
   "cell_type": "code",
   "execution_count": null,
   "metadata": {},
   "outputs": [],
   "source": [
    "NB_EPOCH = 5"
   ]
  },
  {
   "cell_type": "markdown",
   "metadata": {},
   "source": [
    "<h1>This NB_EPOCH is as sets the NB_EPOCH to 20\n",
    "    It has an accuracy rating of 0.9317\n",
    "     Its test score is 0.2353</h1>"
   ]
  },
  {
   "cell_type": "code",
   "execution_count": null,
   "metadata": {},
   "outputs": [],
   "source": [
    "NB_EPOCH = 20"
   ]
  },
  {
   "cell_type": "markdown",
   "metadata": {},
   "source": [
    "<h1>This increases the NB_EPOCH variable to 100 \n",
    "    It has an accuracy rating of 0.9652\n",
    "    Its test score is 0.1153 </h1>"
   ]
  },
  {
   "cell_type": "code",
   "execution_count": 8,
   "metadata": {},
   "outputs": [],
   "source": [
    "NB_EPOCH = 100"
   ]
  },
  {
   "cell_type": "code",
   "execution_count": 9,
   "metadata": {},
   "outputs": [],
   "source": [
    "BATCH_SIZE = 128"
   ]
  },
  {
   "cell_type": "code",
   "execution_count": 10,
   "metadata": {},
   "outputs": [],
   "source": [
    "VERBOSE = 1"
   ]
  },
  {
   "cell_type": "code",
   "execution_count": 11,
   "metadata": {},
   "outputs": [],
   "source": [
    "NB_CLASSES = 10 #number of outputs = number of digits"
   ]
  },
  {
   "cell_type": "code",
   "execution_count": 12,
   "metadata": {},
   "outputs": [],
   "source": [
    "OPTIMIZER = SGD()"
   ]
  },
  {
   "cell_type": "code",
   "execution_count": 13,
   "metadata": {},
   "outputs": [],
   "source": [
    "N_HIDDEN = 128"
   ]
  },
  {
   "cell_type": "code",
   "execution_count": 14,
   "metadata": {},
   "outputs": [],
   "source": [
    "VALIDATION_SPLIT=0.2"
   ]
  },
  {
   "cell_type": "markdown",
   "metadata": {},
   "source": [
    "<h1>This sets the dropout attribute to 0.3</h1>"
   ]
  },
  {
   "cell_type": "code",
   "execution_count": 15,
   "metadata": {},
   "outputs": [],
   "source": [
    "DROUPOUT = 0.3"
   ]
  },
  {
   "cell_type": "code",
   "execution_count": 16,
   "metadata": {},
   "outputs": [],
   "source": [
    "(X_train, y_train), (X_test, y_test) = mnist.load_data()\n"
   ]
  },
  {
   "cell_type": "code",
   "execution_count": 17,
   "metadata": {},
   "outputs": [],
   "source": [
    "RESHAPED = 784"
   ]
  },
  {
   "cell_type": "code",
   "execution_count": 18,
   "metadata": {},
   "outputs": [],
   "source": [
    "X_train = X_train.reshape(60000, RESHAPED)"
   ]
  },
  {
   "cell_type": "code",
   "execution_count": 19,
   "metadata": {},
   "outputs": [],
   "source": [
    "X_test = X_test.reshape(10000, RESHAPED)"
   ]
  },
  {
   "cell_type": "code",
   "execution_count": 20,
   "metadata": {},
   "outputs": [],
   "source": [
    "X_train = X_train.astype('float32')"
   ]
  },
  {
   "cell_type": "code",
   "execution_count": 21,
   "metadata": {},
   "outputs": [],
   "source": [
    "X_test = X_test.astype('float32')"
   ]
  },
  {
   "cell_type": "code",
   "execution_count": 22,
   "metadata": {},
   "outputs": [],
   "source": [
    "X_train /= 255"
   ]
  },
  {
   "cell_type": "code",
   "execution_count": 23,
   "metadata": {},
   "outputs": [],
   "source": [
    "X_test /= 255"
   ]
  },
  {
   "cell_type": "code",
   "execution_count": 24,
   "metadata": {},
   "outputs": [
    {
     "name": "stdout",
     "output_type": "stream",
     "text": [
      "60000 train samples\n"
     ]
    }
   ],
   "source": [
    "print(X_train.shape[0], 'train samples')"
   ]
  },
  {
   "cell_type": "code",
   "execution_count": 25,
   "metadata": {},
   "outputs": [
    {
     "name": "stdout",
     "output_type": "stream",
     "text": [
      "10000 test sample\n"
     ]
    }
   ],
   "source": [
    "print(X_test.shape[0], 'test sample')"
   ]
  },
  {
   "cell_type": "code",
   "execution_count": 26,
   "metadata": {},
   "outputs": [],
   "source": [
    "# convert class vectors to binary class matrices\n",
    "y_train = np_utils.to_categorical(y_train, NB_CLASSES)"
   ]
  },
  {
   "cell_type": "code",
   "execution_count": 27,
   "metadata": {},
   "outputs": [],
   "source": [
    "y_test = np_utils.to_categorical(y_test, NB_CLASSES)"
   ]
  },
  {
   "cell_type": "code",
   "execution_count": 28,
   "metadata": {},
   "outputs": [],
   "source": [
    "# M_HIDDEN hidden layers\n",
    "# 10 outputs\n",
    "# final stage is softmax\n",
    "model = Sequential()"
   ]
  },
  {
   "cell_type": "code",
   "execution_count": 29,
   "metadata": {},
   "outputs": [],
   "source": [
    "model.add(Dense(N_HIDDEN, input_shape=(RESHAPED,)))"
   ]
  },
  {
   "cell_type": "code",
   "execution_count": 30,
   "metadata": {},
   "outputs": [],
   "source": [
    "model.add(Activation('relu'))\n"
   ]
  },
  {
   "cell_type": "markdown",
   "metadata": {},
   "source": [
    "<h1>This is apllied when adding the dropout functions</h1>"
   ]
  },
  {
   "cell_type": "code",
   "execution_count": 31,
   "metadata": {},
   "outputs": [],
   "source": [
    "model.add(Dropout(1))"
   ]
  },
  {
   "cell_type": "code",
   "execution_count": 32,
   "metadata": {},
   "outputs": [],
   "source": [
    "model.add(Dense(NB_CLASSES))"
   ]
  },
  {
   "cell_type": "code",
   "execution_count": 33,
   "metadata": {},
   "outputs": [],
   "source": [
    "model.add(Activation('softmax'))"
   ]
  },
  {
   "cell_type": "code",
   "execution_count": 34,
   "metadata": {},
   "outputs": [
    {
     "name": "stdout",
     "output_type": "stream",
     "text": [
      "Model: \"sequential_1\"\n",
      "_________________________________________________________________\n",
      "Layer (type)                 Output Shape              Param #   \n",
      "=================================================================\n",
      "dense_1 (Dense)              (None, 128)               100480    \n",
      "_________________________________________________________________\n",
      "activation_1 (Activation)    (None, 128)               0         \n",
      "_________________________________________________________________\n",
      "dropout_1 (Dropout)          (None, 128)               0         \n",
      "_________________________________________________________________\n",
      "dense_2 (Dense)              (None, 10)                1290      \n",
      "_________________________________________________________________\n",
      "activation_2 (Activation)    (None, 10)                0         \n",
      "=================================================================\n",
      "Total params: 101,770\n",
      "Trainable params: 101,770\n",
      "Non-trainable params: 0\n",
      "_________________________________________________________________\n"
     ]
    }
   ],
   "source": [
    "model.summary()"
   ]
  },
  {
   "cell_type": "code",
   "execution_count": 35,
   "metadata": {},
   "outputs": [],
   "source": [
    "model.compile(loss='categorical_crossentropy', optimizer=OPTIMIZER, metrics=['accuracy'])"
   ]
  },
  {
   "cell_type": "code",
   "execution_count": 36,
   "metadata": {},
   "outputs": [
    {
     "name": "stdout",
     "output_type": "stream",
     "text": [
      "Train on 48000 samples, validate on 12000 samples\n",
      "Epoch 1/100\n",
      "48000/48000 [==============================] - 2s 47us/step - loss: 1.3626 - accuracy: 0.6690 - val_loss: 0.7550 - val_accuracy: 0.8398\n",
      "Epoch 2/100\n",
      "48000/48000 [==============================] - 2s 45us/step - loss: 0.6386 - accuracy: 0.8462 - val_loss: 0.5043 - val_accuracy: 0.8754\n",
      "Epoch 3/100\n",
      "48000/48000 [==============================] - 2s 47us/step - loss: 0.4911 - accuracy: 0.8725 - val_loss: 0.4211 - val_accuracy: 0.8888\n",
      "Epoch 4/100\n",
      "48000/48000 [==============================] - 2s 46us/step - loss: 0.4275 - accuracy: 0.8852 - val_loss: 0.3786 - val_accuracy: 0.8972\n",
      "Epoch 5/100\n",
      "48000/48000 [==============================] - 2s 47us/step - loss: 0.3906 - accuracy: 0.8929 - val_loss: 0.3519 - val_accuracy: 0.9043\n",
      "Epoch 6/100\n",
      "48000/48000 [==============================] - 2s 46us/step - loss: 0.3655 - accuracy: 0.8988 - val_loss: 0.3338 - val_accuracy: 0.9072\n",
      "Epoch 7/100\n",
      "48000/48000 [==============================] - 2s 46us/step - loss: 0.3470 - accuracy: 0.9031 - val_loss: 0.3186 - val_accuracy: 0.9104\n",
      "Epoch 8/100\n",
      "48000/48000 [==============================] - 2s 48us/step - loss: 0.3322 - accuracy: 0.9069 - val_loss: 0.3073 - val_accuracy: 0.9129\n",
      "Epoch 9/100\n",
      "48000/48000 [==============================] - 2s 48us/step - loss: 0.3202 - accuracy: 0.9098 - val_loss: 0.2977 - val_accuracy: 0.9168\n",
      "Epoch 10/100\n",
      "48000/48000 [==============================] - 2s 48us/step - loss: 0.3098 - accuracy: 0.9127 - val_loss: 0.2897 - val_accuracy: 0.9189\n",
      "Epoch 11/100\n",
      "48000/48000 [==============================] - 2s 44us/step - loss: 0.3007 - accuracy: 0.9152 - val_loss: 0.2820 - val_accuracy: 0.9212\n",
      "Epoch 12/100\n",
      "48000/48000 [==============================] - 2s 46us/step - loss: 0.2924 - accuracy: 0.9177 - val_loss: 0.2754 - val_accuracy: 0.9237\n",
      "Epoch 13/100\n",
      "48000/48000 [==============================] - 2s 49us/step - loss: 0.2851 - accuracy: 0.9194 - val_loss: 0.2704 - val_accuracy: 0.9238\n",
      "Epoch 14/100\n",
      "48000/48000 [==============================] - 2s 48us/step - loss: 0.2785 - accuracy: 0.9217 - val_loss: 0.2639 - val_accuracy: 0.9258\n",
      "Epoch 15/100\n",
      "48000/48000 [==============================] - 2s 46us/step - loss: 0.2722 - accuracy: 0.9235 - val_loss: 0.2589 - val_accuracy: 0.9264\n",
      "Epoch 16/100\n",
      "48000/48000 [==============================] - 2s 46us/step - loss: 0.2664 - accuracy: 0.9252 - val_loss: 0.2538 - val_accuracy: 0.9278\n",
      "Epoch 17/100\n",
      "48000/48000 [==============================] - 2s 48us/step - loss: 0.2610 - accuracy: 0.9272 - val_loss: 0.2494 - val_accuracy: 0.9301\n",
      "Epoch 18/100\n",
      "48000/48000 [==============================] - 2s 48us/step - loss: 0.2559 - accuracy: 0.9283 - val_loss: 0.2453 - val_accuracy: 0.9302\n",
      "Epoch 19/100\n",
      "48000/48000 [==============================] - 2s 48us/step - loss: 0.2510 - accuracy: 0.9297 - val_loss: 0.2412 - val_accuracy: 0.9327\n",
      "Epoch 20/100\n",
      "48000/48000 [==============================] - 2s 49us/step - loss: 0.2465 - accuracy: 0.9311 - val_loss: 0.2373 - val_accuracy: 0.9335\n",
      "Epoch 21/100\n",
      "48000/48000 [==============================] - 2s 48us/step - loss: 0.2420 - accuracy: 0.9324 - val_loss: 0.2336 - val_accuracy: 0.9348\n",
      "Epoch 22/100\n",
      "48000/48000 [==============================] - 2s 49us/step - loss: 0.2377 - accuracy: 0.9334 - val_loss: 0.2310 - val_accuracy: 0.9352\n",
      "Epoch 23/100\n",
      "48000/48000 [==============================] - 2s 50us/step - loss: 0.2339 - accuracy: 0.9346 - val_loss: 0.2272 - val_accuracy: 0.9367\n",
      "Epoch 24/100\n",
      "48000/48000 [==============================] - 2s 51us/step - loss: 0.2300 - accuracy: 0.9358 - val_loss: 0.2238 - val_accuracy: 0.9383\n",
      "Epoch 25/100\n",
      "48000/48000 [==============================] - 2s 51us/step - loss: 0.2262 - accuracy: 0.9367 - val_loss: 0.2209 - val_accuracy: 0.9390\n",
      "Epoch 26/100\n",
      "48000/48000 [==============================] - 3s 53us/step - loss: 0.2227 - accuracy: 0.9381 - val_loss: 0.2179 - val_accuracy: 0.9389\n",
      "Epoch 27/100\n",
      "48000/48000 [==============================] - 3s 55us/step - loss: 0.2192 - accuracy: 0.9391 - val_loss: 0.2149 - val_accuracy: 0.9402\n",
      "Epoch 28/100\n",
      "48000/48000 [==============================] - 3s 62us/step - loss: 0.2159 - accuracy: 0.9400 - val_loss: 0.2121 - val_accuracy: 0.9414\n",
      "Epoch 29/100\n",
      "48000/48000 [==============================] - 2s 49us/step - loss: 0.2126 - accuracy: 0.9406 - val_loss: 0.2092 - val_accuracy: 0.9422\n",
      "Epoch 30/100\n",
      "48000/48000 [==============================] - 2s 49us/step - loss: 0.2095 - accuracy: 0.9416 - val_loss: 0.2068 - val_accuracy: 0.9424\n",
      "Epoch 31/100\n",
      "48000/48000 [==============================] - 2s 50us/step - loss: 0.2064 - accuracy: 0.9427 - val_loss: 0.2042 - val_accuracy: 0.9433\n",
      "Epoch 32/100\n",
      "48000/48000 [==============================] - 2s 51us/step - loss: 0.2036 - accuracy: 0.9434 - val_loss: 0.2021 - val_accuracy: 0.9435\n",
      "Epoch 33/100\n",
      "48000/48000 [==============================] - 2s 51us/step - loss: 0.2007 - accuracy: 0.9444 - val_loss: 0.1998 - val_accuracy: 0.9442\n",
      "Epoch 34/100\n",
      "48000/48000 [==============================] - 2s 51us/step - loss: 0.1979 - accuracy: 0.9452 - val_loss: 0.1976 - val_accuracy: 0.9448\n",
      "Epoch 35/100\n",
      "48000/48000 [==============================] - 2s 51us/step - loss: 0.1953 - accuracy: 0.9454 - val_loss: 0.1953 - val_accuracy: 0.9452\n",
      "Epoch 36/100\n",
      "48000/48000 [==============================] - 2s 45us/step - loss: 0.1926 - accuracy: 0.9466 - val_loss: 0.1931 - val_accuracy: 0.9458\n",
      "Epoch 37/100\n",
      "48000/48000 [==============================] - 2s 47us/step - loss: 0.1900 - accuracy: 0.9470 - val_loss: 0.1913 - val_accuracy: 0.9467\n",
      "Epoch 38/100\n",
      "48000/48000 [==============================] - 2s 46us/step - loss: 0.1874 - accuracy: 0.9480 - val_loss: 0.1893 - val_accuracy: 0.9467\n",
      "Epoch 39/100\n",
      "48000/48000 [==============================] - 2s 45us/step - loss: 0.1851 - accuracy: 0.9483 - val_loss: 0.1870 - val_accuracy: 0.9488\n",
      "Epoch 40/100\n",
      "48000/48000 [==============================] - 2s 49us/step - loss: 0.1827 - accuracy: 0.9490 - val_loss: 0.1849 - val_accuracy: 0.9491\n",
      "Epoch 41/100\n",
      "48000/48000 [==============================] - 2s 50us/step - loss: 0.1803 - accuracy: 0.9497 - val_loss: 0.1839 - val_accuracy: 0.9493\n",
      "Epoch 42/100\n",
      "48000/48000 [==============================] - 2s 49us/step - loss: 0.1781 - accuracy: 0.9504 - val_loss: 0.1816 - val_accuracy: 0.9507\n",
      "Epoch 43/100\n",
      "48000/48000 [==============================] - 2s 50us/step - loss: 0.1759 - accuracy: 0.9512 - val_loss: 0.1801 - val_accuracy: 0.9505\n",
      "Epoch 44/100\n",
      "48000/48000 [==============================] - 2s 51us/step - loss: 0.1736 - accuracy: 0.9513 - val_loss: 0.1783 - val_accuracy: 0.9508\n",
      "Epoch 45/100\n",
      "48000/48000 [==============================] - 2s 50us/step - loss: 0.1716 - accuracy: 0.9518 - val_loss: 0.1764 - val_accuracy: 0.9518\n",
      "Epoch 46/100\n",
      "48000/48000 [==============================] - 2s 51us/step - loss: 0.1695 - accuracy: 0.9525 - val_loss: 0.1750 - val_accuracy: 0.9521\n",
      "Epoch 47/100\n",
      "48000/48000 [==============================] - 2s 49us/step - loss: 0.1675 - accuracy: 0.9532 - val_loss: 0.1737 - val_accuracy: 0.9532\n",
      "Epoch 48/100\n",
      "48000/48000 [==============================] - 2s 50us/step - loss: 0.1656 - accuracy: 0.9536 - val_loss: 0.1721 - val_accuracy: 0.9532\n",
      "Epoch 49/100\n",
      "48000/48000 [==============================] - 2s 49us/step - loss: 0.1637 - accuracy: 0.9541 - val_loss: 0.1702 - val_accuracy: 0.9540\n",
      "Epoch 50/100\n",
      "48000/48000 [==============================] - 3s 54us/step - loss: 0.1618 - accuracy: 0.9546 - val_loss: 0.1688 - val_accuracy: 0.9538\n",
      "Epoch 51/100\n",
      "48000/48000 [==============================] - 4s 79us/step - loss: 0.1599 - accuracy: 0.9551 - val_loss: 0.1678 - val_accuracy: 0.9542\n",
      "Epoch 52/100\n",
      "48000/48000 [==============================] - 4s 82us/step - loss: 0.1581 - accuracy: 0.9554 - val_loss: 0.1664 - val_accuracy: 0.9553\n",
      "Epoch 53/100\n",
      "48000/48000 [==============================] - 4s 78us/step - loss: 0.1563 - accuracy: 0.9557 - val_loss: 0.1646 - val_accuracy: 0.9553\n",
      "Epoch 54/100\n",
      "48000/48000 [==============================] - 3s 72us/step - loss: 0.1546 - accuracy: 0.9566 - val_loss: 0.1639 - val_accuracy: 0.9550\n",
      "Epoch 55/100\n",
      "48000/48000 [==============================] - 4s 79us/step - loss: 0.1529 - accuracy: 0.9573 - val_loss: 0.1624 - val_accuracy: 0.9557\n",
      "Epoch 56/100\n",
      "48000/48000 [==============================] - 3s 62us/step - loss: 0.1513 - accuracy: 0.9577 - val_loss: 0.1611 - val_accuracy: 0.9559\n",
      "Epoch 57/100\n",
      "48000/48000 [==============================] - 3s 65us/step - loss: 0.1496 - accuracy: 0.9579 - val_loss: 0.1595 - val_accuracy: 0.9566\n",
      "Epoch 58/100\n",
      "48000/48000 [==============================] - 3s 65us/step - loss: 0.1480 - accuracy: 0.9585 - val_loss: 0.1585 - val_accuracy: 0.9571\n",
      "Epoch 59/100\n",
      "48000/48000 [==============================] - 3s 70us/step - loss: 0.1464 - accuracy: 0.9591 - val_loss: 0.1573 - val_accuracy: 0.9573\n",
      "Epoch 60/100\n",
      "48000/48000 [==============================] - 3s 67us/step - loss: 0.1448 - accuracy: 0.9592 - val_loss: 0.1561 - val_accuracy: 0.9574\n",
      "Epoch 61/100\n",
      "48000/48000 [==============================] - 3s 71us/step - loss: 0.1434 - accuracy: 0.9596 - val_loss: 0.1550 - val_accuracy: 0.9577\n",
      "Epoch 62/100\n",
      "48000/48000 [==============================] - 3s 70us/step - loss: 0.1419 - accuracy: 0.9601 - val_loss: 0.1539 - val_accuracy: 0.9578\n",
      "Epoch 63/100\n",
      "48000/48000 [==============================] - 3s 68us/step - loss: 0.1404 - accuracy: 0.9605 - val_loss: 0.1528 - val_accuracy: 0.9582\n",
      "Epoch 64/100\n",
      "48000/48000 [==============================] - 3s 70us/step - loss: 0.1389 - accuracy: 0.9611 - val_loss: 0.1521 - val_accuracy: 0.9580\n",
      "Epoch 65/100\n",
      "48000/48000 [==============================] - 3s 71us/step - loss: 0.1375 - accuracy: 0.9615 - val_loss: 0.1507 - val_accuracy: 0.9589\n",
      "Epoch 66/100\n",
      "48000/48000 [==============================] - 2s 44us/step - loss: 0.1361 - accuracy: 0.9619 - val_loss: 0.1496 - val_accuracy: 0.9588\n",
      "Epoch 67/100\n",
      "48000/48000 [==============================] - 2s 46us/step - loss: 0.1349 - accuracy: 0.9622 - val_loss: 0.1485 - val_accuracy: 0.9596\n",
      "Epoch 68/100\n",
      "48000/48000 [==============================] - 2s 42us/step - loss: 0.1334 - accuracy: 0.9630 - val_loss: 0.1480 - val_accuracy: 0.9597\n",
      "Epoch 69/100\n",
      "48000/48000 [==============================] - 2s 46us/step - loss: 0.1321 - accuracy: 0.9632 - val_loss: 0.1470 - val_accuracy: 0.9588\n",
      "Epoch 70/100\n",
      "48000/48000 [==============================] - 2s 44us/step - loss: 0.1308 - accuracy: 0.9638 - val_loss: 0.1455 - val_accuracy: 0.9600\n",
      "Epoch 71/100\n",
      "48000/48000 [==============================] - 2s 44us/step - loss: 0.1296 - accuracy: 0.9639 - val_loss: 0.1447 - val_accuracy: 0.9604\n",
      "Epoch 72/100\n",
      "48000/48000 [==============================] - 3s 54us/step - loss: 0.1284 - accuracy: 0.9641 - val_loss: 0.1436 - val_accuracy: 0.9608\n",
      "Epoch 73/100\n",
      "48000/48000 [==============================] - 2s 51us/step - loss: 0.1271 - accuracy: 0.9648 - val_loss: 0.1429 - val_accuracy: 0.9613\n",
      "Epoch 74/100\n",
      "48000/48000 [==============================] - 2s 46us/step - loss: 0.1259 - accuracy: 0.9651 - val_loss: 0.1419 - val_accuracy: 0.9615\n",
      "Epoch 75/100\n",
      "48000/48000 [==============================] - 2s 46us/step - loss: 0.1248 - accuracy: 0.9653 - val_loss: 0.1409 - val_accuracy: 0.9616\n",
      "Epoch 76/100\n",
      "48000/48000 [==============================] - 2s 43us/step - loss: 0.1235 - accuracy: 0.9662 - val_loss: 0.1403 - val_accuracy: 0.9611\n",
      "Epoch 77/100\n",
      "48000/48000 [==============================] - 2s 44us/step - loss: 0.1224 - accuracy: 0.9662 - val_loss: 0.1393 - val_accuracy: 0.9617\n",
      "Epoch 78/100\n",
      "48000/48000 [==============================] - 2s 47us/step - loss: 0.1212 - accuracy: 0.9666 - val_loss: 0.1386 - val_accuracy: 0.9620\n",
      "Epoch 79/100\n",
      "48000/48000 [==============================] - 2s 44us/step - loss: 0.1202 - accuracy: 0.9667 - val_loss: 0.1376 - val_accuracy: 0.9620\n",
      "Epoch 80/100\n",
      "48000/48000 [==============================] - 2s 45us/step - loss: 0.1191 - accuracy: 0.9673 - val_loss: 0.1367 - val_accuracy: 0.9626\n",
      "Epoch 81/100\n",
      "48000/48000 [==============================] - 2s 45us/step - loss: 0.1180 - accuracy: 0.9675 - val_loss: 0.1359 - val_accuracy: 0.9622\n",
      "Epoch 82/100\n",
      "48000/48000 [==============================] - 2s 48us/step - loss: 0.1170 - accuracy: 0.9676 - val_loss: 0.1354 - val_accuracy: 0.9622\n",
      "Epoch 83/100\n",
      "48000/48000 [==============================] - 2s 46us/step - loss: 0.1160 - accuracy: 0.9683 - val_loss: 0.1345 - val_accuracy: 0.9622\n",
      "Epoch 84/100\n",
      "48000/48000 [==============================] - 2s 46us/step - loss: 0.1149 - accuracy: 0.9684 - val_loss: 0.1339 - val_accuracy: 0.9632\n",
      "Epoch 85/100\n",
      "48000/48000 [==============================] - 2s 49us/step - loss: 0.1139 - accuracy: 0.9686 - val_loss: 0.1330 - val_accuracy: 0.9626\n",
      "Epoch 86/100\n",
      "48000/48000 [==============================] - 3s 54us/step - loss: 0.1129 - accuracy: 0.9689 - val_loss: 0.1327 - val_accuracy: 0.9634\n",
      "Epoch 87/100\n",
      "48000/48000 [==============================] - 3s 55us/step - loss: 0.1119 - accuracy: 0.9694 - val_loss: 0.1316 - val_accuracy: 0.9637\n",
      "Epoch 88/100\n",
      "48000/48000 [==============================] - 2s 48us/step - loss: 0.1110 - accuracy: 0.9694 - val_loss: 0.1309 - val_accuracy: 0.9636\n",
      "Epoch 89/100\n",
      "48000/48000 [==============================] - 3s 54us/step - loss: 0.1100 - accuracy: 0.9697 - val_loss: 0.1302 - val_accuracy: 0.9646\n",
      "Epoch 90/100\n",
      "48000/48000 [==============================] - 2s 50us/step - loss: 0.1090 - accuracy: 0.9700 - val_loss: 0.1299 - val_accuracy: 0.9641\n",
      "Epoch 91/100\n",
      "48000/48000 [==============================] - 2s 52us/step - loss: 0.1081 - accuracy: 0.9706 - val_loss: 0.1291 - val_accuracy: 0.9641\n",
      "Epoch 92/100\n",
      "48000/48000 [==============================] - 2s 52us/step - loss: 0.1072 - accuracy: 0.9705 - val_loss: 0.1283 - val_accuracy: 0.9647\n",
      "Epoch 93/100\n",
      "48000/48000 [==============================] - 2s 45us/step - loss: 0.1063 - accuracy: 0.9712 - val_loss: 0.1280 - val_accuracy: 0.9646\n",
      "Epoch 94/100\n",
      "48000/48000 [==============================] - 3s 54us/step - loss: 0.1054 - accuracy: 0.9712 - val_loss: 0.1268 - val_accuracy: 0.9647\n",
      "Epoch 95/100\n",
      "48000/48000 [==============================] - 3s 55us/step - loss: 0.1045 - accuracy: 0.9719 - val_loss: 0.1265 - val_accuracy: 0.9653\n",
      "Epoch 96/100\n",
      "48000/48000 [==============================] - 2s 51us/step - loss: 0.1038 - accuracy: 0.9720 - val_loss: 0.1259 - val_accuracy: 0.9647\n",
      "Epoch 97/100\n",
      "48000/48000 [==============================] - 2s 51us/step - loss: 0.1028 - accuracy: 0.9722 - val_loss: 0.1254 - val_accuracy: 0.9658\n",
      "Epoch 98/100\n",
      "48000/48000 [==============================] - 3s 55us/step - loss: 0.1020 - accuracy: 0.9722 - val_loss: 0.1246 - val_accuracy: 0.9656\n",
      "Epoch 99/100\n",
      "48000/48000 [==============================] - 3s 54us/step - loss: 0.1012 - accuracy: 0.9725 - val_loss: 0.1241 - val_accuracy: 0.9663\n",
      "Epoch 100/100\n",
      "48000/48000 [==============================] - 3s 60us/step - loss: 0.1004 - accuracy: 0.9727 - val_loss: 0.1234 - val_accuracy: 0.9663\n"
     ]
    }
   ],
   "source": [
    "history = model.fit(X_train, y_train, batch_size=BATCH_SIZE, epochs=NB_EPOCH, verbose=VERBOSE, validation_split=VALIDATION_SPLIT)"
   ]
  },
  {
   "cell_type": "code",
   "execution_count": 37,
   "metadata": {},
   "outputs": [
    {
     "name": "stdout",
     "output_type": "stream",
     "text": [
      "10000/10000 [==============================] - 0s 34us/step\n"
     ]
    }
   ],
   "source": [
    "score = model.evaluate(X_test, y_test, verbose=VERBOSE)"
   ]
  },
  {
   "cell_type": "code",
   "execution_count": 38,
   "metadata": {},
   "outputs": [
    {
     "name": "stdout",
     "output_type": "stream",
     "text": [
      "Test score: 0.11538591534793377\n"
     ]
    }
   ],
   "source": [
    "print(\"Test score:\", score[0])"
   ]
  },
  {
   "cell_type": "code",
   "execution_count": 39,
   "metadata": {},
   "outputs": [
    {
     "name": "stdout",
     "output_type": "stream",
     "text": [
      "Test accuracy: 0.9652000069618225\n"
     ]
    }
   ],
   "source": [
    "print(\"Test accuracy:\", score[1])"
   ]
  },
  {
   "cell_type": "code",
   "execution_count": null,
   "metadata": {},
   "outputs": [],
   "source": []
  },
  {
   "cell_type": "code",
   "execution_count": null,
   "metadata": {},
   "outputs": [],
   "source": []
  }
 ],
 "metadata": {
  "kernelspec": {
   "display_name": "Python 3",
   "language": "python",
   "name": "python3"
  },
  "language_info": {
   "codemirror_mode": {
    "name": "ipython",
    "version": 3
   },
   "file_extension": ".py",
   "mimetype": "text/x-python",
   "name": "python",
   "nbconvert_exporter": "python",
   "pygments_lexer": "ipython3",
   "version": "3.7.4"
  }
 },
 "nbformat": 4,
 "nbformat_minor": 2
}
